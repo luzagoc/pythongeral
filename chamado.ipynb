{
  "nbformat": 4,
  "nbformat_minor": 0,
  "metadata": {
    "colab": {
      "provenance": [],
      "authorship_tag": "ABX9TyPqftCiFZrz6G82km9w6Fb6",
      "include_colab_link": true
    },
    "kernelspec": {
      "name": "python3",
      "display_name": "Python 3"
    },
    "language_info": {
      "name": "python"
    }
  },
  "cells": [
    {
      "cell_type": "markdown",
      "metadata": {
        "id": "view-in-github",
        "colab_type": "text"
      },
      "source": [
        "<a href=\"https://colab.research.google.com/github/luzagoc/pythongeral/blob/main/chamado.ipynb\" target=\"_parent\"><img src=\"https://colab.research.google.com/assets/colab-badge.svg\" alt=\"Open In Colab\"/></a>"
      ]
    },
    {
      "cell_type": "code",
      "execution_count": 2,
      "metadata": {
        "colab": {
          "base_uri": "https://localhost:8080/"
        },
        "id": "Dwe9WKnOVEVh",
        "outputId": "bc8aefba-0439-41f2-e6c5-00b88c98a435"
      },
      "outputs": [
        {
          "output_type": "stream",
          "name": "stdout",
          "text": [
            "Admin Paulo\n",
            "Zago tem o seguinte problema: Internet caiu\n"
          ]
        }
      ],
      "source": [
        "class Usuario:\n",
        "    def __init__(self, nome, rg):\n",
        "        self.nome = nome\n",
        "        self.rg = rg\n",
        "\n",
        "class Atendente(Usuario):\n",
        "    def __init__(self, nome, rg, setor):\n",
        "        super().__init__(nome, rg)\n",
        "        self.setor = setor\n",
        "\n",
        "    def registrar_chamado(self, cliente):\n",
        "        print(f'Setor: {self.setor}, Cliente: {cliente.nome}, Problema: {cliente.problema}')\n",
        "\n",
        "    def __str__(self):\n",
        "        return f'Admin {self.nome}'\n",
        "\n",
        "class Cliente(Usuario):\n",
        "    def __init__(self, nome, rg, problema):\n",
        "        super().__init__(nome, rg)\n",
        "        self.problema = problema\n",
        "\n",
        "    def __str__(self):\n",
        "        return f'{self.nome} tem o seguinte problema: {self.problema}'\n",
        "\n",
        "    def __eq__(self, other):\n",
        "        return self.nome == other.nome\n",
        "\n",
        "c = Cliente('Zago', '2735169826', 'Internet caiu')\n",
        "a = Atendente('Paulo', '2735169826', 'Suporte Técnico')\n",
        "\n",
        "print(a)\n",
        "print(c)"
      ]
    }
  ]
}