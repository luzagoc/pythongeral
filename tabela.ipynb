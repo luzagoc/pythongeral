{
  "nbformat": 4,
  "nbformat_minor": 0,
  "metadata": {
    "colab": {
      "provenance": [],
      "authorship_tag": "ABX9TyPFSz0Euki8kRYQ7qId2+mC",
      "include_colab_link": true
    },
    "kernelspec": {
      "name": "python3",
      "display_name": "Python 3"
    },
    "language_info": {
      "name": "python"
    }
  },
  "cells": [
    {
      "cell_type": "markdown",
      "metadata": {
        "id": "view-in-github",
        "colab_type": "text"
      },
      "source": [
        "<a href=\"https://colab.research.google.com/github/luzagoc/pythongeral/blob/main/tabela.ipynb\" target=\"_parent\"><img src=\"https://colab.research.google.com/assets/colab-badge.svg\" alt=\"Open In Colab\"/></a>"
      ]
    },
    {
      "cell_type": "code",
      "execution_count": 1,
      "metadata": {
        "colab": {
          "base_uri": "https://localhost:8080/"
        },
        "id": "4QvtnTw3ct6H",
        "outputId": "bb8aa723-09f6-436a-9fdf-e504b38cf28d"
      },
      "outputs": [
        {
          "output_type": "stream",
          "name": "stdout",
          "text": [
            "Digite o nome: Luca\n",
            "Digite a data (formato DD/MM/AAAA): 11/07/2006\n",
            "Digite o nome: Ariel\n",
            "Digite a data (formato DD/MM/AAAA): 10/03/2005\n",
            "Digite o nome: Lima\n",
            "Digite a data (formato DD/MM/AAAA): 28/11/2006\n",
            "Digite o nome: Álvaro\n",
            "Digite a data (formato DD/MM/AAAA): 30/04/1975\n",
            "Digite o nome: Suzana\n",
            "Digite a data (formato DD/MM/AAAA): 10/06/2011\n",
            "Nomes e Datas cadastrados:\n",
            "+--------+------------+\n",
            "|  Nome  |    Data    |\n",
            "+--------+------------+\n",
            "|  Luca  | 11/07/2006 |\n",
            "| Ariel  | 10/03/2005 |\n",
            "|  Lima  | 28/11/2006 |\n",
            "| Álvaro | 30/04/1975 |\n",
            "| Suzana | 10/06/2011 |\n",
            "+--------+------------+\n"
          ]
        }
      ],
      "source": [
        "from prettytable import PrettyTable\n",
        "\n",
        "tabela = PrettyTable([\"Nome\", \"Data\"])\n",
        "\n",
        "for i in range(5):\n",
        "    nome = input(\"Digite o nome: \")\n",
        "    data = input(\"Digite a data (formato DD/MM/AAAA): \")\n",
        "    tabela.add_row([nome, data])\n",
        "\n",
        "print(\"Nomes e Datas cadastrados:\")\n",
        "print(tabela)"
      ]
    }
  ]
}